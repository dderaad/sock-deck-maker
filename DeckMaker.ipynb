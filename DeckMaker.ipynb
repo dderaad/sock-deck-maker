{
  "nbformat": 4,
  "nbformat_minor": 0,
  "metadata": {
    "colab": {
      "provenance": [],
      "authorship_tag": "ABX9TyPsMYD0MWLOt/dJAHKOuV2E",
      "include_colab_link": true
    },
    "kernelspec": {
      "name": "python3",
      "display_name": "Python 3"
    },
    "language_info": {
      "name": "python"
    }
  },
  "cells": [
    {
      "cell_type": "markdown",
      "metadata": {
        "id": "view-in-github",
        "colab_type": "text"
      },
      "source": [
        "<a href=\"https://colab.research.google.com/github/dderaad/sock-deck-maker/blob/main/DeckMaker.ipynb\" target=\"_parent\"><img src=\"https://colab.research.google.com/assets/colab-badge.svg\" alt=\"Open In Colab\"/></a>"
      ]
    },
    {
      "cell_type": "code",
      "execution_count": null,
      "metadata": {
        "id": "izUcezoPfuV2"
      },
      "outputs": [],
      "source": [
        "import os\n",
        "from itertools import zip_longest\n",
        "\n",
        "\n",
        "class Card():\n",
        "  def __init__(self, content, tagline) -> None:\n",
        "    self.content = content\n",
        "    self.tagline = tagline\n",
        "    self.cardType = 3\n",
        "\n",
        "  def __repr__(self) -> str:\n",
        "    return f'{{\"content\":\"{self.content}\",\"tagline\":\"{self.tagline}\",\"cardType\":{self.cardType}}}'\n",
        "\n",
        "\n",
        "class Deck():\n",
        "  def __init__(self, cards) -> None:\n",
        "    self.deck = cards\n",
        "\n",
        "  def __repr__(self) -> str:\n",
        "    cards_repr = ','.join([str(card) for card in self.deck])\n",
        "    return f'[{cards_repr}]'\n",
        "\n",
        "\"\"\"\n",
        "data_example_1 = [\n",
        "  Card(\"OJ's Glove\", \"The glove doesn't fit, you must acquit.\"),\n",
        "  Card(\"OJ's Knife\", \"Who's blood is it?\")\n",
        "]\n",
        "\"\"\"\n",
        "input_filename   = r\"data_1.txt\"\n",
        "output_filename  = r\"deck_1.txt\"\n",
        "output_deck_name = r\"Deck 1\"\n",
        "\n",
        "#https://stackoverflow.com/questions/11350342/way-to-iterate-two-items-at-a-time-in-a-list\n",
        "def grouper(n, iterable, fillvalue=None):\n",
        "    \"Collect data into fixed-length chunks or blocks\"\n",
        "    # grouper(3, 'ABCDEFG', 'x') --> ABC DEF Gxx\"\n",
        "    args = [iter(iterable)] * n\n",
        "    return zip_longest(fillvalue=fillvalue, *args)\n",
        "\n",
        "def generate_deck_from_file(input, output):\n",
        "  with open(input, 'r') as f:\n",
        "    deck_name = f.readline()[:-1]\n",
        "    proofs = Deck([Card(content.removesuffix('\\n'),\n",
        "                        tag.removesuffix('\\n')) for content, tag in grouper(2, f.readlines())])\n",
        "\n",
        "  with open(output, 'w') as f:\n",
        "    f.write(f'{{deckName:\"{deck_name}\",\"isValid\":true,\"proofs\":{proofs}}}')\n",
        "\n",
        "generate_deck_from_file(input_filename, output_filename)"
      ]
    },
    {
      "cell_type": "code",
      "source": [
        "generate_deck_from_file('dota_data.txt', 'dota_deck.txt')"
      ],
      "metadata": {
        "id": "0jkXTAfcxWvl"
      },
      "execution_count": null,
      "outputs": []
    },
    {
      "cell_type": "code",
      "source": [
        "# Deck Examples\n",
        "\n",
        "#{\"deckName\":\"Test Deck\",\"isValid\":false,\"proofs\":[{\"content\":\"yasdf\",\"tagline\":\"tagline\",\"cardType\":3},{\"content\":\"card 2\",\"tagline\":\"tag 2\",\"cardType\":3}]}\n",
        "\"\"\"\n",
        "{\"deckName\":\"Test Deck\",\"isValid\":false,\"proofs\":[{\"content\":\"yasdf\",\"tagline\":\"tagline\",\"cardType\":3},{\"content\":\"OJ's Glove\",\"tagline\":\"Does it fit?\",\"cardType\":3},{\"content\":\"\",\"tagline\":\"\",\"cardType\":3},{\"content\":\"fasd\",\"tagline\":\"asdf\",\"cardType\":3}]}\n",
        "\"\"\""
      ],
      "metadata": {
        "id": "b_19KYZ7swZc"
      },
      "execution_count": null,
      "outputs": []
    }
  ]
}